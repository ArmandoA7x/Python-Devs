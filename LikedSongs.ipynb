{
 "cells": [
  {
   "cell_type": "code",
   "execution_count": 1,
   "metadata": {},
   "outputs": [],
   "source": [
    "import numpy\n",
    "from sklearn import tree"
   ]
  },
  {
   "cell_type": "code",
   "execution_count": 2,
   "metadata": {},
   "outputs": [],
   "source": [
    "#Tabla de decision para el fit o DataSet"
   ]
  },
  {
   "cell_type": "code",
   "execution_count": 3,
   "metadata": {},
   "outputs": [],
   "source": [
    "Cancion = [[2,3,1,2,2,1],[2,4,2,2,0,1],[0,3,2,1,2,1],[2,4,0,2,2,1],\n",
    "           [2,3,1,1,2,1],[2,5,0,2,2,1],[1,3,1,2,2,1],[1,5,1,2,2,1],\n",
    "           [2,3,1,2,2,1],[2,6,2,1,2,1],[2,5,0,2,2,1],[2,4,1,2,2,0],\n",
    "           [2,5,1,2,2,0],[2,6,1,2,2,0],[1,6,1,2,2,1],[1,4,2,2,2,1],\n",
    "           [1,5,2,2,2,0],[0,3,1,1,2,1],[1,4,2,0,2,1],[0,5,0,2,2,1],\n",
    "           [0,3,2,1,2,1],[0,3,1,1,2,1],[0,3,1,1,2,1],[3,3,2,1,0,0],\n",
    "           [0,3,2,2,2,1],[3,3,0,0,2,0],[0,4,1,0,1,0],[3,3,1,0,1,0],\n",
    "           [0,3,2,1,2,1],[0,3,0,0,0,0],[3,3,1,1,1,0],[3,3,0,0,1,0],\n",
    "           [3,3,1,0,1,0],[3,3,2,0,1,0],[3,3,1,0,0,0],[0,3,2,1,2,1],\n",
    "           [0,3,2,2,2,2],[0,3,0,2,2,2],[2,3,2,1,2,2],[2,3,2,2,1,2],\n",
    "           [0,3,2,1,2,2],[0,3,1,0,1,2],[2,7,0,0,0,2],[2,2,0,2,2,2],\n",
    "           [1,6,2,2,2,0],[0,3,1,2,2,0],[2,3,0,2,2,0],[2,4,0,2,2,0],\n",
    "           [1,5,1,2,2,0],[1,4,1,0,0,1],[3,3,0,2,2,0],[3,3,0,0,0,0],\n",
    "           [3,3,1,0,0,0],[3,2,1,1,1,0],[3,2,1,2,2,0],[0,3,2,2,2,1]]\n",
    "Me_gusta = [1,1,1,1,\n",
    "            1,1,1,1,\n",
    "            1,1,1,1,\n",
    "            1,1,1,1,\n",
    "            1,1,1,1,\n",
    "            1,1,1,0,\n",
    "            1,0,0,0,\n",
    "            1,0,0,0,\n",
    "            0,0,0,1,\n",
    "            1,1,1,1,\n",
    "            1,1,1,1,\n",
    "            1,1,1,1,\n",
    "            1,0,1,0,\n",
    "            0,0,1,1]"
   ]
  },
  {
   "cell_type": "code",
   "execution_count": 4,
   "metadata": {},
   "outputs": [],
   "source": [
    "#[Genero(0 = Electronica/pop|1 = Hip Hop|2 = Rock/clasica|3 = banda/reggaeton),\n",
    "#Duracion(minutos de la cancion),\n",
    "#Ritmo(0 = tranquilo|1 = moderado|2 = pesado),\n",
    "#Letra(0 = No letra o mala|1 = Letra regular|2 = Buena letra),\n",
    "#Coro(0 = mal coro o sin coro|1 = Coro regular|2 = buen coro),\n",
    "#Idioma(0 = Español|1 = Ingles|2 = Otro)]"
   ]
  },
  {
   "cell_type": "code",
   "execution_count": 5,
   "metadata": {},
   "outputs": [],
   "source": [
    "clf = tree.DecisionTreeClassifier()\n",
    "clf = clf.fit(Cancion,Me_gusta)"
   ]
  },
  {
   "cell_type": "code",
   "execution_count": 6,
   "metadata": {},
   "outputs": [],
   "source": [
    "#Imprimir predicción 1 = Me gusta | 0 = No me gusta"
   ]
  },
  {
   "cell_type": "code",
   "execution_count": 9,
   "metadata": {},
   "outputs": [
    {
     "name": "stdout",
     "output_type": "stream",
     "text": [
      "[1]\n"
     ]
    }
   ],
   "source": [
    "print(clf.predict([[2,4,0,2,2,1]]))#[Genero,Duracion,Ritmo,Letra,Coro,Idioma]"
   ]
  },
  {
   "cell_type": "code",
   "execution_count": null,
   "metadata": {},
   "outputs": [],
   "source": [
    "#Fin de programa"
   ]
  }
 ],
 "metadata": {
  "kernelspec": {
   "display_name": "Python 3",
   "language": "python",
   "name": "python3"
  },
  "language_info": {
   "codemirror_mode": {
    "name": "ipython",
    "version": 3
   },
   "file_extension": ".py",
   "mimetype": "text/x-python",
   "name": "python",
   "nbconvert_exporter": "python",
   "pygments_lexer": "ipython3",
   "version": "3.6.6"
  }
 },
 "nbformat": 4,
 "nbformat_minor": 2
}
